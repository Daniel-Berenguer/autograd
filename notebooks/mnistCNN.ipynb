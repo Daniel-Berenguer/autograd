{
 "cells": [
  {
   "cell_type": "code",
   "execution_count": 6,
   "id": "30b3b822",
   "metadata": {},
   "outputs": [
    {
     "name": "stdout",
     "output_type": "stream",
     "text": [
      "Training data shape: (60000, 28, 28) (60000, 10)\n"
     ]
    }
   ],
   "source": [
    "import numpy as np\n",
    "import sys\n",
    "import os\n",
    "\n",
    "# Add the src directory to the system path\n",
    "src_path = os.path.abspath(os.path.join(\"..\", \"src\"))\n",
    "if src_path not in sys.path:\n",
    "    sys.path.append(src_path)\n",
    "\n",
    "from autograd.Tensor import Tensor\n",
    "from autograd.Layer import CNN\n",
    "\n",
    "DATA_PATH = \"../data/mnist/\"\n",
    "\n",
    "train_data = np.loadtxt(DATA_PATH + \"mnist_train.csv\", delimiter=\",\")\n",
    "test_data = np.loadtxt(DATA_PATH + \"mnist_test.csv\", delimiter=\",\")\n",
    "\n",
    "Y_train = train_data[:, 0].astype(np.int32)\n",
    "X_train = train_data[:, 1:].astype(np.float32).reshape(-1, 28, 28) / 255.0  # Normalize pixel values\n",
    "Y_test = test_data[:, 0].astype(np.int32)\n",
    "X_test = test_data[:, 1:].astype(np.float32).reshape(-1, 28, 28) / 255.0  # Normalize pixel values\n",
    "\n",
    "# Convert labels to one-hot encoding\n",
    "Y_train = np.eye(int(Y_train.max() + 1))[Y_train].astype(np.float32)\n",
    "Y_test = np.eye(int(Y_test.max() + 1))[Y_test].astype(np.float32)\n",
    "\n",
    "print(\"Training data shape:\", X_train.shape, Y_train.shape)"
   ]
  },
  {
   "cell_type": "code",
   "execution_count": 7,
   "id": "1d1f76ee",
   "metadata": {},
   "outputs": [
    {
     "name": "stdout",
     "output_type": "stream",
     "text": [
      "Test data shape: (10000, 28, 28) (10000, 10)\n"
     ]
    }
   ],
   "source": [
    "print(\"Test data shape:\", X_test.shape, Y_test.shape)"
   ]
  },
  {
   "cell_type": "code",
   "execution_count": null,
   "id": "06b23afc",
   "metadata": {},
   "outputs": [
    {
     "data": {
      "image/png": "[encoded data removed]",
      "text/plain": [
       "<Figure size 640x480 with 1 Axes>"
      ]
     },
     "metadata": {},
     "output_type": "display_data"
    },
    {
     "ename": "",
     "evalue": "",
     "output_type": "error",
     "traceback": [
      "\u001b[1;31mThe Kernel crashed while executing code in the current cell or a previous cell. \n",
      "\u001b[1;31mPlease review the code in the cell(s) to identify a possible cause of the failure. \n",
      "\u001b[1;31mClick <a href='https://aka.ms/vscodeJupyterKernelCrash'>here</a> for more info. \n",
      "\u001b[1;31mView Jupyter <a href='command:jupyter.viewOutput'>log</a> for further details."
     ]
    }
   ],
   "source": [
    "import matplotlib.pyplot as plt\n",
    "\n",
    "image = X_train[24]\n",
    "label = np.argmax(Y_train[24])\n",
    "\n",
    "plt.imshow(image, cmap=\"gray\")\n",
    "plt.title(f\"Label: {label}\")\n",
    "plt.axis(\"off\")\n",
    "plt.show()"
   ]
  },
  {
   "cell_type": "code",
   "execution_count": null,
   "id": "16e4613a",
   "metadata": {},
   "outputs": [],
   "source": []
  }
 ],
 "metadata": {
  "kernelspec": {
   "display_name": "venv",
   "language": "python",
   "name": "python3"
  },
  "language_info": {
   "codemirror_mode": {
    "name": "ipython",
    "version": 3
   },
   "file_extension": ".py",
   "mimetype": "text/x-python",
   "name": "python",
   "nbconvert_exporter": "python",
   "pygments_lexer": "ipython3",
   "version": "3.10.10"
  }
 },
 "nbformat": 4,
 "nbformat_minor": 5
}
