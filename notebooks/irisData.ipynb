{
 "cells": [
  {
   "cell_type": "code",
   "execution_count": 5,
   "id": "5fab0133",
   "metadata": {},
   "outputs": [],
   "source": [
    "import numpy as np\n",
    "path = \"../data/iris/iris.data\"\n",
    "\n",
    "data = np.genfromtxt(path, delimiter=\",\", dtype=str)\n"
   ]
  },
  {
   "cell_type": "code",
   "execution_count": 6,
   "id": "14aa63f5",
   "metadata": {},
   "outputs": [],
   "source": [
    "X = data[:, :-1].astype(np.float32)\n",
    "Y = data[:, -1]"
   ]
  },
  {
   "cell_type": "code",
   "execution_count": 17,
   "id": "a008d17e",
   "metadata": {},
   "outputs": [],
   "source": [
    "flower_types = np.unique(Y)\n",
    "flower_to_index = {flower: i for i, flower in enumerate(flower_types)}\n",
    "index_to_flower = np.array(flower_types)"
   ]
  },
  {
   "cell_type": "code",
   "execution_count": 19,
   "id": "b744f11c",
   "metadata": {},
   "outputs": [],
   "source": [
    "Y = np.array([flower_to_index[flower] for flower in Y], dtype=np.float32)"
   ]
  },
  {
   "cell_type": "code",
   "execution_count": 22,
   "id": "b25b2fa2",
   "metadata": {},
   "outputs": [
    {
     "data": {
      "text/plain": [
       "((150,), (150, 4))"
      ]
     },
     "execution_count": 22,
     "metadata": {},
     "output_type": "execute_result"
    }
   ],
   "source": [
    "Y.shape,X.shape"
   ]
  },
  {
   "cell_type": "code",
   "execution_count": 23,
   "id": "fe163798",
   "metadata": {},
   "outputs": [],
   "source": [
    "np.random.seed(23)\n",
    "\n",
    "# Shuffle the indices\n",
    "indices = np.arange(X.shape[0])\n",
    "np.random.shuffle(indices)\n",
    "\n",
    "# Define split ratio\n",
    "split_ratio = 0.8  # 80% train, 20% test\n",
    "split_index = int(split_ratio * len(indices))\n",
    "\n",
    "# Split the data\n",
    "train_idx = indices[:split_index]\n",
    "test_idx = indices[split_index:]\n",
    "\n",
    "X_train, X_test = X[train_idx], X[test_idx]\n",
    "y_train, y_test = Y[train_idx], Y[test_idx]"
   ]
  },
  {
   "cell_type": "code",
   "execution_count": 26,
   "id": "7abfa507",
   "metadata": {},
   "outputs": [],
   "source": [
    "import pickle\n",
    "\n",
    "pickle_path = \"../data/iris/pickled/\"\n",
    "\n",
    "with open(pickle_path + \"X_train.pkl\", \"wb\") as f:\n",
    "    pickle.dump(X_train, f)\n",
    "\n",
    "with open(pickle_path + \"X_test.pkl\", \"wb\") as f:\n",
    "    pickle.dump(X_test, f)\n",
    "\n",
    "with open(pickle_path + \"Y_train.pkl\", \"wb\") as f:\n",
    "    pickle.dump(y_train, f)\n",
    "\n",
    "with open(pickle_path + \"Y_test.pkl\", \"wb\") as f:\n",
    "    pickle.dump(y_test, f)\n"
   ]
  },
  {
   "cell_type": "code",
   "execution_count": null,
   "id": "db50b355",
   "metadata": {},
   "outputs": [],
   "source": []
  }
 ],
 "metadata": {
  "kernelspec": {
   "display_name": "venv",
   "language": "python",
   "name": "python3"
  },
  "language_info": {
   "codemirror_mode": {
    "name": "ipython",
    "version": 3
   },
   "file_extension": ".py",
   "mimetype": "text/x-python",
   "name": "python",
   "nbconvert_exporter": "python",
   "pygments_lexer": "ipython3",
   "version": "3.10.6"
  }
 },
 "nbformat": 4,
 "nbformat_minor": 5
}
